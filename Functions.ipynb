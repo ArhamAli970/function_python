{
  "nbformat": 4,
  "nbformat_minor": 0,
  "metadata": {
    "colab": {
      "provenance": []
    },
    "kernelspec": {
      "name": "python3",
      "display_name": "Python 3"
    },
    "language_info": {
      "name": "python"
    }
  },
  "cells": [
    {
      "cell_type": "markdown",
      "source": [
        "QUESTION NO.1\n",
        "- Function is reusable peice of code where as method is also function that is made in class\n",
        "\n",
        "QUESTION NO.2\n",
        "- The value we pass to function is called arguments and parameter is the name of the value pass as arguments\n",
        "\n",
        "QUESTION NO.3\n",
        "- There are two ways to define function\n",
        "\n",
        "\n",
        "1.   def keyword called named function\n",
        "        \n",
        "\n",
        "```\n",
        "def fun():\n",
        "      print(10)\n",
        "fun()\n",
        "\n",
        "```\n",
        "\n",
        "\n",
        "2.  lambda keyword that is anonymous function\n",
        "```\n",
        "    fn= lambda x: x+10\n",
        "    print(fn(5))\n",
        "```\n",
        "\n",
        "\n",
        "QUESTION NO.4\n",
        "\n",
        "- return is a keyword that is used to give some value from a function\n",
        "\n",
        "\n",
        "\n",
        "QUESTION NO 5\n",
        "-  iterator in python is the object that is used to iterate over iterable objects and iterable is an object that is that can be looped\n",
        "\n",
        "\n",
        "QUESTION NO 6\n",
        "- generator are used in  function ,it uses yield keyword to provide value once at a time and not store in memory, stop the function and restart it from its last point , that's why it is memory efficient\n",
        "\n",
        "\n",
        "```\n",
        "  def fun():\n",
        "      yield 1\n",
        "      yield 2\n",
        "      yield 3\n",
        "\n",
        "  gen=fun()\n",
        "  next(gen)\n",
        "  next(gen)\n",
        "  next(gen)\n",
        "\n",
        "```\n",
        "\n",
        "\n",
        "\n",
        "QUESTION NO 7\n",
        "- generator is memory efficient used to give value one by one when required, where as in regular function we used to store the value in list or any other data structure and then return it from function and that's why it requires memory\n",
        "\n",
        "QUESTION NO.8\n",
        "- lambda function is an anonymous function used for single statement of code ,it is a way to short the code inside normal function\n",
        "\n",
        "QUESTION NO.9\n",
        "- map function is a type of inbuilt function,it is used when we want to altered each value with some parameter\n",
        "\n",
        "\n",
        "\n",
        "QUESTION NO.10\n",
        "-\n",
        "\n",
        "1.   map() applies a function to each item in an iterable and returns the result\n",
        "\n",
        "2.   filters() get items in the iterable where the function returns True.\n",
        "\n",
        "3. reduce() function  gives single value by applying the function\n",
        "\n",
        "\n",
        "\n",
        "\n",
        "QUESTION NO.11\n",
        "\n"
      ],
      "metadata": {
        "id": "Fu3UVfAXcxcO"
      }
    },
    {
      "cell_type": "markdown",
      "source": [
        "<img src=\"https://drive.google.com/uc?export=view&id=1WNaltEgI-jv8t9zSHj9R92RodVGEFtvv\" width=\"400\">\n"
      ],
      "metadata": {
        "id": "ko6CnAGyFiCh"
      }
    },
    {
      "cell_type": "code",
      "source": [
        "#1\n",
        "lst=map(int,input(\"Enter list: \").split(\" \"))\n",
        "fil=list(filter(lambda x:x%2==0,lst))\n",
        "print(sum(fil))"
      ],
      "metadata": {
        "colab": {
          "base_uri": "https://localhost:8080/"
        },
        "id": "ySpn_AhTeRj3",
        "outputId": "e34cc822-04ca-4127-c8e0-d69e0a580926"
      },
      "execution_count": null,
      "outputs": [
        {
          "output_type": "stream",
          "name": "stdout",
          "text": [
            "Enter list: 2 4 48 11\n",
            "54\n"
          ]
        }
      ]
    },
    {
      "cell_type": "code",
      "source": [
        "#2\n",
        "s=\"helllow rod\"\n",
        "res=\"\"\n",
        "for i in range(len(s)):\n",
        "  res=s[i]+res\n",
        "print(res)"
      ],
      "metadata": {
        "colab": {
          "base_uri": "https://localhost:8080/"
        },
        "id": "tVtTj_FbfRHy",
        "outputId": "deec3f39-fd1c-4b96-f7ef-fb739991d8ad"
      },
      "execution_count": null,
      "outputs": [
        {
          "output_type": "stream",
          "name": "stdout",
          "text": [
            "dor wollleh\n"
          ]
        }
      ]
    },
    {
      "cell_type": "code",
      "source": [
        "#3\n",
        "lst=list(map(int,input(\"Enter number: \").split(\" \")))\n",
        "sq=list(map(lambda x:x**2,lst))\n",
        "print(sq)"
      ],
      "metadata": {
        "colab": {
          "base_uri": "https://localhost:8080/"
        },
        "id": "1nmszL-sgepY",
        "outputId": "4996b811-33fb-4e65-8fcb-8d217b27dc23"
      },
      "execution_count": null,
      "outputs": [
        {
          "output_type": "stream",
          "name": "stdout",
          "text": [
            "Enter number: 2 4 1\n",
            "[4, 16, 1]\n"
          ]
        }
      ]
    },
    {
      "cell_type": "code",
      "source": [
        "#4\n",
        "num=int(input(\"Enter number: \"))\n",
        "\n",
        "if num<=200:\n",
        "  cnt=0\n",
        "  for i in range(2,num):\n",
        "    if(num%i==0):\n",
        "      cnt+=1\n",
        "  print(\"Prime\" if cnt==0 else \"Not Prime\")\n",
        "else:\n",
        "  print(\"number should be less than equals 200\")"
      ],
      "metadata": {
        "colab": {
          "base_uri": "https://localhost:8080/"
        },
        "id": "Tz2Y_9v2hMP5",
        "outputId": "f0f53cf7-64f8-4292-be7c-93e3aaeb7d39"
      },
      "execution_count": null,
      "outputs": [
        {
          "output_type": "stream",
          "name": "stdout",
          "text": [
            "Enter number: 101\n",
            "Prime\n"
          ]
        }
      ]
    },
    {
      "cell_type": "code",
      "source": [
        "# 5\n",
        "class Iterator:\n",
        "    def __init__(self,n):\n",
        "        self.a=0\n",
        "        self.b=1\n",
        "        self.n=n\n",
        "        self.count=1\n",
        "    def __iter__(self):\n",
        "        return self\n",
        "    def __next__(self):\n",
        "        if self.count>self.n:\n",
        "            raise StopIteration\n",
        "        if self.count==1:\n",
        "            self.count+=1\n",
        "            return self.a\n",
        "\n",
        "        elif self.count==2:\n",
        "            self.count+=1\n",
        "            return self.b\n",
        "\n",
        "        else:\n",
        "            self.count+=1\n",
        "            sum=self.a+self.b\n",
        "            self.a=self.b\n",
        "            self.b=sum\n",
        "            return sum\n",
        "\n",
        "fab=Iterator(10)\n",
        "\n",
        "for x in fab:\n",
        "    print(x,end=\" \")\n",
        "\n",
        "\n",
        "\n"
      ],
      "metadata": {
        "id": "PL5ULCFoib5L",
        "colab": {
          "base_uri": "https://localhost:8080/"
        },
        "outputId": "273abf97-5dff-4282-cb48-f31881192f51"
      },
      "execution_count": null,
      "outputs": [
        {
          "output_type": "stream",
          "name": "stdout",
          "text": [
            "0 1 1 2 3 5 8 13 21 34 "
          ]
        }
      ]
    },
    {
      "cell_type": "code",
      "source": [
        "#6\n",
        "def pow(x):\n",
        "  for i in range(1,x+1):\n",
        "    yield 2**i\n",
        "\n",
        "cnt=5\n",
        "gen=pow(5)\n",
        "for i in range(5):\n",
        "   print(next(gen),end=\" \")"
      ],
      "metadata": {
        "id": "R_i-jJKtii-U",
        "colab": {
          "base_uri": "https://localhost:8080/"
        },
        "outputId": "7c1b6517-c1ea-4e22-fdc8-a0ecdfbf368a"
      },
      "execution_count": null,
      "outputs": [
        {
          "output_type": "stream",
          "name": "stdout",
          "text": [
            "2 4 8 16 32 "
          ]
        }
      ]
    },
    {
      "cell_type": "code",
      "source": [
        "#7\n",
        "def read_by_line(filenam):\n",
        "  with open(filenam,'r') as file:\n",
        "    for line in file:\n",
        "      yield line.rstrip('\\n')"
      ],
      "metadata": {
        "id": "neXFA0jhijE6"
      },
      "execution_count": null,
      "outputs": []
    },
    {
      "cell_type": "code",
      "source": [
        "#8\n",
        "lst=[(3, 4, 5), (2, 11, 7), (3, 4, 48), (3, 1, 8)]\n",
        "# key parameter is used to write custom\n",
        "fin=sorted(lst,key=lambda x:x[1])\n",
        "print(fin)"
      ],
      "metadata": {
        "id": "Bl73pchEijMc",
        "colab": {
          "base_uri": "https://localhost:8080/"
        },
        "outputId": "6d5327f3-f5e1-419c-ab13-f0e0d89fb8be"
      },
      "execution_count": null,
      "outputs": [
        {
          "output_type": "stream",
          "name": "stdout",
          "text": [
            "[(3, 1, 8), (3, 4, 5), (3, 4, 48), (2, 11, 7)]\n"
          ]
        }
      ]
    },
    {
      "cell_type": "code",
      "source": [
        "#9\n",
        "lst=[30,40,45,12,33]\n",
        "\n",
        "far=list(map(lambda x:(x*(9/5)+32),lst))\n",
        "print(far)"
      ],
      "metadata": {
        "id": "-L2f9SzUijSZ",
        "colab": {
          "base_uri": "https://localhost:8080/"
        },
        "outputId": "4c64e54b-340e-48cd-ba13-d68bf0b09a97"
      },
      "execution_count": null,
      "outputs": [
        {
          "output_type": "stream",
          "name": "stdout",
          "text": [
            "[86.0, 104.0, 113.0, 53.6, 91.4]\n"
          ]
        }
      ]
    },
    {
      "cell_type": "code",
      "source": [
        "#10\n",
        "s=\"hello woArld!\"\n",
        "lst=[\"a\",\"e\",\"i\",\"o\",\"u\"]\n",
        "\n",
        "s=''.join(filter(lambda x: x.lower() not in lst,s))\n",
        "print(s)"
      ],
      "metadata": {
        "id": "CCkxQrCMijVL",
        "colab": {
          "base_uri": "https://localhost:8080/"
        },
        "outputId": "8579f218-b20f-4397-f93c-08945acf4820"
      },
      "execution_count": null,
      "outputs": [
        {
          "output_type": "stream",
          "name": "stdout",
          "text": [
            "hll wrld!\n"
          ]
        }
      ]
    },
    {
      "cell_type": "code",
      "source": [
        "#11\n",
        "orders = [\n",
        "    [34587, \"Learning Python, Mark Lutz\", 4, 40.95],\n",
        "    [98762, \"Programming Python, Mark Lutz\", 5, 56.80],\n",
        "    [77226, \"Head First Python, Paul Barry\", 3, 32.95],\n",
        "    [88112, \"Einführung in Python3, Bernd Klein\", 3, 24.99]\n",
        "]\n",
        "\n",
        "lst=[]\n",
        "\n",
        "data=list(map(lambda x:(x[0],(x[2]*x[3])+10 if x[2]*x[3]<100 else x[2]*x[3]),orders))\n",
        "\n",
        "\n",
        "print(data)\n"
      ],
      "metadata": {
        "id": "JwDzRVnPijYm",
        "colab": {
          "base_uri": "https://localhost:8080/"
        },
        "outputId": "87e6a44c-5cdc-4b36-f634-51749b05575f"
      },
      "execution_count": null,
      "outputs": [
        {
          "output_type": "stream",
          "name": "stdout",
          "text": [
            "[(34587, 163.8), (98762, 284.0), (77226, 108.85000000000001), (88112, 84.97)]\n"
          ]
        }
      ]
    }
  ]
}